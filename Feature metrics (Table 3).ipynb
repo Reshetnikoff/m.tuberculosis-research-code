{
 "cells": [
  {
   "cell_type": "markdown",
   "metadata": {},
   "source": [
    "# Notebook for creating feature metric table (Table 3)"
   ]
  },
  {
   "cell_type": "code",
   "execution_count": 1,
   "metadata": {},
   "outputs": [],
   "source": [
    "# Configutation part #\n",
    "\n",
    "# Output of Pycasso analysis.ipynb\n",
    "scad_file = './lr/final_output_scad/scad_feature_metrics.csv'\n",
    "# Output of Pycasso analysis.ipynb\n",
    "mcp_file = './lr/final_output_mcp/mcp_feature_metrics.csv'\n",
    "# Output of Pycasso analysis.ipynb\n",
    "l1_file = './lr/final_output_l1/l1_feature_metrics.csv'\n",
    "# Output of ABESS analysis.ipynb\n",
    "abess_file = './abess/final_output_abess/abess_feature_metrics.csv'\n",
    "# Output of HHS analysis.ipynb\n",
    "hhs_file = './hhs/final_output_hhs/hhs_feature_metrics.csv'\n",
    "# Output of Elastic net analysis.ipynb\n",
    "elastic_net_file = './elastic_net/final_output_elastic_net/elastic_net_feature_metrics.csv'\n",
    "# List of resistance gene with corresponding drugs\n",
    "resistance_gene_file = './db/resistance_genes.csv'\n",
    "\n",
    "######################"
   ]
  },
  {
   "cell_type": "code",
   "execution_count": 2,
   "metadata": {},
   "outputs": [],
   "source": [
    "import numpy as np\n",
    "import pandas as pd"
   ]
  },
  {
   "cell_type": "code",
   "execution_count": 15,
   "metadata": {},
   "outputs": [],
   "source": [
    "drugs = ['Rifampicin',\n",
    "        'Isoniazid',\n",
    "        'Pyrazinamide',\n",
    "        'Ethambutol',\n",
    "        'Streptomycin',\n",
    "        'Kanamycin',\n",
    "        'Amikacin',\n",
    "        'Capreomycin',\n",
    "        'Ofloxacin',\n",
    "        'Moxifloxacin',\n",
    "        'Ciprofloxacin',\n",
    "        'Ethionamide',\n",
    "        'Prothionamide']\n",
    "\n",
    "\n",
    "res_data = pd.read_csv(resistance_gene_file, sep='\\t', \n",
    "                               index_col=None, header=0)\n",
    "res_genes = np.unique(res_data['gene'])"
   ]
  },
  {
   "cell_type": "code",
   "execution_count": 16,
   "metadata": {},
   "outputs": [],
   "source": [
    "abess_result = pd.read_csv(abess_file, sep='\\t', index_col=0, header=0)\n",
    "hhs_result = pd.read_csv(hhs_file, sep='\\t', index_col=0, header=0)\n",
    "scad_result = pd.read_csv(scad_file, sep='\\t', index_col=0, header=0)\n",
    "mcp_result = pd.read_csv(mcp_file, sep='\\t', index_col=0, header=0)\n",
    "l1_result = pd.read_csv(l1_file, sep='\\t', index_col=0, header=0)\n",
    "elastic_result = pd.read_csv(elastic_net_file, sep='\\t', index_col=0, header=0)"
   ]
  },
  {
   "cell_type": "code",
   "execution_count": 17,
   "metadata": {},
   "outputs": [],
   "source": [
    "jacard = pd.DataFrame(index=drugs, dtype=float)\n",
    "jacard['l1'] = l1_result['jacard']\n",
    "jacard['scad'] = scad_result['jacard']\n",
    "jacard['mcp'] = mcp_result['jacard']\n",
    "jacard['elastic'] = elastic_result['jacard']\n",
    "jacard['abess'] = abess_result['jacard']\n",
    "jacard['hhs'] = hhs_result['jacard']\n",
    "jacard = jacard.astype({x:float for x in jacard.columns})\n",
    "\n",
    "true_gene = pd.DataFrame(index=drugs, dtype=float)\n",
    "true_gene['l1'] = l1_result['sel_true_gene']/l1_result['res_gen']\n",
    "true_gene['scad'] = scad_result['sel_true_gene']/l1_result['res_gen']\n",
    "true_gene['mcp'] = mcp_result['sel_true_gene']/l1_result['res_gen']\n",
    "true_gene['elastic'] = elastic_result['sel_true_gene']/l1_result['res_gen']\n",
    "true_gene['abess'] = abess_result['sel_true_gene']/l1_result['res_gen']\n",
    "true_gene['hhs'] = hhs_result['sel_true_gene']/l1_result['res_gen']\n",
    "true_gene = true_gene.astype({x:float for x in true_gene.columns})\n",
    "\n",
    "false_gene = pd.DataFrame(index=drugs)\n",
    "false_gene['l1'] = l1_result['sel_false_gene']/(len(res_genes)-l1_result['res_gen'])\n",
    "false_gene['scad'] = scad_result['sel_false_gene']/(len(res_genes)-l1_result['res_gen'])\n",
    "false_gene['mcp'] = mcp_result['sel_false_gene']/(len(res_genes)-l1_result['res_gen'])\n",
    "false_gene['elastic'] = elastic_result['sel_false_gene']/(len(res_genes)-l1_result['res_gen'])\n",
    "false_gene['abess'] = abess_result['sel_false_gene']/(len(res_genes)-l1_result['res_gen'])\n",
    "false_gene['hhs'] = hhs_result['sel_false_gene']/(len(res_genes)-l1_result['res_gen'])\n",
    "false_gene = false_gene.astype({x:float for x in false_gene.columns})"
   ]
  },
  {
   "cell_type": "code",
   "execution_count": 18,
   "metadata": {},
   "outputs": [],
   "source": [
    "jacard.columns = [f\"{x}_jacard\" for x in jacard.columns]\n",
    "true_gene.columns = [f\"{x}_true_gene\" for x in true_gene.columns]\n",
    "false_gene.columns = [f\"{x}_false_gene\" for x in false_gene.columns]"
   ]
  },
  {
   "cell_type": "code",
   "execution_count": 19,
   "metadata": {},
   "outputs": [],
   "source": [
    "general = pd.concat([jacard, true_gene, false_gene], axis=1)"
   ]
  },
  {
   "cell_type": "code",
   "execution_count": 21,
   "metadata": {},
   "outputs": [],
   "source": [
    "general.to_csv('Table3.csv', sep='\\t', index=True, header=True)"
   ]
  },
  {
   "cell_type": "code",
   "execution_count": null,
   "metadata": {},
   "outputs": [],
   "source": []
  },
  {
   "cell_type": "code",
   "execution_count": null,
   "metadata": {},
   "outputs": [],
   "source": []
  }
 ],
 "metadata": {
  "kernelspec": {
   "display_name": "Python 3",
   "language": "python",
   "name": "python3"
  },
  "language_info": {
   "codemirror_mode": {
    "name": "ipython",
    "version": 3
   },
   "file_extension": ".py",
   "mimetype": "text/x-python",
   "name": "python",
   "nbconvert_exporter": "python",
   "pygments_lexer": "ipython3",
   "version": "3.6.10"
  }
 },
 "nbformat": 4,
 "nbformat_minor": 4
}
