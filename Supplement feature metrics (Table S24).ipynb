{
 "cells": [
  {
   "cell_type": "markdown",
   "metadata": {},
   "source": [
    "# Notebook for creating supplement feature metric table (Table S24)"
   ]
  },
  {
   "cell_type": "code",
   "execution_count": 1,
   "metadata": {},
   "outputs": [],
   "source": [
    "# Configutation part #\n",
    "\n",
    "# Output of Pycasso analysis.ipynb\n",
    "scad_dir = './lr/final_output_scad'\n",
    "# Output of Pycasso analysis.ipynb\n",
    "mcp_dir = './lr/final_output_mcp'\n",
    "# Output of Pycasso analysis.ipynb\n",
    "l1_dir = './lr/final_output_l1'\n",
    "# Output of ABESS analysis.ipynb\n",
    "abess_dir = './abess/final_output_abess'\n",
    "# Output of HHS analysis.ipynb\n",
    "hhs_dir = './hhs/final_output_hhs'\n",
    "# Output of Elastic net analysis.ipynb\n",
    "elastic_net_dir = './elastic_net/final_output_elastic_net'\n",
    "\n",
    "######################"
   ]
  },
  {
   "cell_type": "code",
   "execution_count": 1,
   "metadata": {},
   "outputs": [],
   "source": [
    "import pandas as pd\n",
    "import numpy as np"
   ]
  },
  {
   "cell_type": "code",
   "execution_count": 2,
   "metadata": {},
   "outputs": [],
   "source": [
    "drugs = ['Rifampicin',\n",
    "        'Isoniazid',\n",
    "        'Pyrazinamide',\n",
    "        'Ethambutol',\n",
    "        'Streptomycin',\n",
    "        'Kanamycin',\n",
    "        'Amikacin',\n",
    "        'Capreomycin',\n",
    "        'Ofloxacin',\n",
    "        'Moxifloxacin',\n",
    "        'Ciprofloxacin',\n",
    "        'Ethionamide',\n",
    "        'Prothionamide']"
   ]
  },
  {
   "cell_type": "code",
   "execution_count": 24,
   "metadata": {},
   "outputs": [],
   "source": [
    "def get_metric(data):\n",
    "    data['temp'] = 1\n",
    "    N_sel = np.sum(data['temp']*data['count'])/5\n",
    "    maj_data = data[data['count'] >= 3]\n",
    "    N_sel_maj = np.sum(maj_data['temp']*maj_data['count'])/5\n",
    "    perc_maj = N_sel_maj/N_sel\n",
    "    mean_maj_sel =  np.mean(maj_data['count'])\n",
    "    return N_sel, perc_maj, mean_maj_sel"
   ]
  },
  {
   "cell_type": "code",
   "execution_count": 28,
   "metadata": {},
   "outputs": [],
   "source": [
    "result = pd.DataFrame(index=drugs, columns=['N_sel_abess', 'N_sel_hhs', 'N_sel_scad',  \n",
    "                                            'N_sel_mcp', 'N_sel_l1', 'N_sel_en',\n",
    "                                            'perc_maj_abess', 'perc_maj_hhs', 'perc_maj_scad',\n",
    "                                            'perc_maj_mcp', 'perc_maj_l1', 'perc_maj_en',\n",
    "                                            'mean_maj_sel_abess', 'mean_maj_sel_hhs', 'mean_maj_sel_scad',\n",
    "                                            'mean_maj_sel_mcp', 'mean_maj_sel_l1', 'mean_maj_sel_en'])\n",
    "\n",
    "for drug in drugs:\n",
    "    abess_data = pd.read_csv(f'{abess_dir}/{drug}.csv', sep='\\t', index_col=None, header=0)\n",
    "    N_sel_abess, perc_maj_abess, mean_maj_sel_abess = get_metric(abess_data)\n",
    "\n",
    "    hhs_data = pd.read_csv(f'{hhs_dir}/{drug}.csv', sep='\\t', index_col=None, header=0)\n",
    "    N_sel_hhs, perc_maj_hhs, mean_maj_sel_hhs = get_metric(hhs_data)\n",
    "\n",
    "    scad_data = pd.read_csv(f'{scad_dir}/{drug}.csv', sep='\\t', index_col=None, header=0)\n",
    "    N_sel_scad, perc_maj_scad, mean_maj_sel_scad = get_metric(scad_data)\n",
    "\n",
    "    mcp_data = pd.read_csv(f'{mcp_dir}/{drug}.csv', sep='\\t', index_col=None, header=0)\n",
    "    N_sel_mcp, perc_maj_mcp, mean_maj_sel_mcp = get_metric(mcp_data)\n",
    "\n",
    "    l1_data = pd.read_csv(f'{l1_dir}/{drug}.csv', sep='\\t', index_col=None, header=0)\n",
    "    N_sel_l1, perc_maj_l1, mean_maj_sel_l1 = get_metric(l1_data)\n",
    "\n",
    "    en_data = pd.read_csv(f'{elastic_net_dir}/{drug}.csv', sep='\\t', index_col=None, header=0)\n",
    "    N_sel_en, perc_maj_en, mean_maj_sel_en = get_metric(en_data)\n",
    "\n",
    "    result.loc[drug] = [N_sel_abess, N_sel_hhs, N_sel_scad,  \n",
    "                        N_sel_mcp, N_sel_l1, N_sel_en,\n",
    "                        perc_maj_abess, perc_maj_hhs, perc_maj_scad,\n",
    "                        perc_maj_mcp, perc_maj_l1, perc_maj_en,\n",
    "                        mean_maj_sel_abess, mean_maj_sel_hhs, mean_maj_sel_scad,\n",
    "                        mean_maj_sel_mcp, mean_maj_sel_l1, mean_maj_sel_en]\n",
    "result.to_csv('TableS24.csv', sep='\\t', index=True, header=True)"
   ]
  }
 ],
 "metadata": {
  "kernelspec": {
   "display_name": "Python 3",
   "language": "python",
   "name": "python3"
  },
  "language_info": {
   "codemirror_mode": {
    "name": "ipython",
    "version": 3
   },
   "file_extension": ".py",
   "mimetype": "text/x-python",
   "name": "python",
   "nbconvert_exporter": "python",
   "pygments_lexer": "ipython3",
   "version": "3.6.10"
  }
 },
 "nbformat": 4,
 "nbformat_minor": 4
}
