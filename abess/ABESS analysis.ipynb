{
 "cells": [
  {
   "cell_type": "markdown",
   "metadata": {},
   "source": [
    "# Notebook to form Table4, TableS11, TableS17, TableS29 preparation for feature matrix (Table 3)"
   ]
  },
  {
   "cell_type": "code",
   "execution_count": 3,
   "metadata": {},
   "outputs": [],
   "source": [
    "# Configutation part #\n",
    "\n",
    "# Directory with matrix after deduplication\n",
    "data_dir = \"\"\n",
    "# Directory with matrix before deduplication\n",
    "data_dir_pre = \"\"\n",
    "# Output directory of abess_lr.py \n",
    "output_abess_lr = './output_abess_lr/lr'\n",
    "# Output directory\n",
    "final_output_abess = './final_output_abess'\n",
    "# Annotation file\n",
    "annotation_file = '../db/AL123456_rev.gff'\n",
    "# Resistance genes file\n",
    "resistance_gene_file = '../db/resistance_genes.csv'\n",
    "\n",
    "######################"
   ]
  },
  {
   "cell_type": "code",
   "execution_count": 1,
   "metadata": {},
   "outputs": [],
   "source": [
    "import os\n",
    "\n",
    "from copy import deepcopy\n",
    "\n",
    "import pandas as pd\n",
    "import numpy as np\n",
    "\n",
    "from tqdm import tqdm\n",
    "\n",
    "from scipy.stats import fisher_exact"
   ]
  },
  {
   "cell_type": "code",
   "execution_count": 2,
   "metadata": {},
   "outputs": [],
   "source": [
    "if not os.path.exists(final_output_abess):\n",
    "    os.makedirs(final_output_abess)\n",
    "\n",
    "thr = '3'\n",
    "\n",
    "drugs = ['Kanamycin', 'Amikacin', 'Streptomycin', 'Ofloxacin',\n",
    "         'Moxifloxacin', 'Isoniazid', 'Rifampicin', 'Ethambutol',\n",
    "         'Pyrazinamide', 'Capreomycin', 'Ethionamide', 'Prothionamide',\n",
    "         'Ciprofloxacin']\n",
    "\n",
    "annotation = pd.read_csv(annotation_file, sep='\\t', index_col=None, header=None)\n",
    "annotation = annotation[annotation[2] == \"CDS\"]\n",
    "annotation['gene'] = [x.split(';')[2].split()[-1] for x in annotation[8]]\n",
    "annotation['seq'] = [x.split(';')[-1].split()[1][1:] for x in annotation[8]]\n",
    "annotation = annotation[['gene', 'seq']]\n",
    "\n",
    "res_data = pd.read_csv(resistance_gene_file, sep='\\t', \n",
    "                               index_col=None, header=0)"
   ]
  },
  {
   "cell_type": "markdown",
   "metadata": {},
   "source": [
    "## Support functions"
   ]
  },
  {
   "cell_type": "code",
   "execution_count": 3,
   "metadata": {},
   "outputs": [],
   "source": [
    "def represents_int(s):\n",
    "    try: \n",
    "        int(s)\n",
    "        return True\n",
    "    except ValueError:\n",
    "        return False"
   ]
  },
  {
   "cell_type": "code",
   "execution_count": 4,
   "metadata": {},
   "outputs": [],
   "source": [
    "def conj_matrix(X):\n",
    "    value00 = len(X[(X.iloc[:,0] == 0) & (X.iloc[:,1] == 0)])\n",
    "    value01 = len(X[(X.iloc[:,0] == 0) & (X.iloc[:,1] == 1)])\n",
    "    value10 = len(X[(X.iloc[:,0] == 1) & (X.iloc[:,1] == 0)])\n",
    "    value11 = len(X[(X.iloc[:,0] == 1) & (X.iloc[:,1] == 1)])\n",
    "    return [value00, value01, value10, value11]\n",
    "\n",
    "def fisher(X):\n",
    "    n = len(X)\n",
    "    [value00, value01, value10, value11] = conj_matrix(X)\n",
    "    return fisher_exact([[value00, value01], [value10, value11]])[1]"
   ]
  },
  {
   "cell_type": "code",
   "execution_count": 1,
   "metadata": {},
   "outputs": [],
   "source": [
    "def get_ind_by_name(pos_info, name, drug):\n",
    "    if name.split('_')[-1] == 'domain':\n",
    "        gene = \"_\".join(name.split('_')[:-1])\n",
    "        temp = pos_info[(pos_info['gene'] == gene) & (pos_info['pos'] == 'changed')]\n",
    "    elif name.split('_')[-1] == 'broken':\n",
    "        gene = \"_\".join(name.split('_')[:-1])\n",
    "        temp = pos_info[(pos_info['gene'] == gene) & (pos_info['pos'] == 'broken')]\n",
    "    elif name.split('_')[-1] == 'snp':\n",
    "        gene = \"_\".join(name.split('_')[:-3])\n",
    "        pos = name.split('_')[-3]\n",
    "        ind = name.split('_')[-2]\n",
    "        temp = pos_info[(pos_info['gene'] == gene) & (pos_info['pos'] == pos) & (pos_info['ind2'] == ind) & (pos_info['act'] == 'snp')]\n",
    "    elif name.split('_')[-1] == 'del':\n",
    "        gene = \"_\".join(name.split('_')[:-3])\n",
    "        pos = name.split('_')[-3]\n",
    "        ind = name.split('_')[-2]\n",
    "        if represents_int(ind):\n",
    "            temp = pos_info[(pos_info['gene'] == gene) & (pos_info['pos'] == pos) & (pos_info['ind1'] == ind)  & (pos_info['ind2'] == 'del')]\n",
    "        else:\n",
    "            temp = pos_info[(pos_info['gene'] == gene) & (pos_info['pos'] == pos) & (pos_info['ind2'] == ind)  & (pos_info['act'] == 'del')]\n",
    "    elif name.split('_')[-1] == 'ins':\n",
    "        gene = \"_\".join(name.split('_')[:-3])\n",
    "        pos = name.split('_')[-3]\n",
    "        ind = name.split('_')[-2]\n",
    "        temp = pos_info[(pos_info['gene'] == gene) & (pos_info['pos'] == pos) & (pos_info['ind2'] == ind)  & (pos_info['act'] == 'ins')]\n",
    "    elif name_split('_')[-1] == 'structure':\n",
    "        i = name.split('_')[1]\n",
    "        node = name.split('_')[2]\n",
    "        temp = pos_info[(pos_info['gene'] == gene) & (pos_info['pos'] == i) & (pos_info['ind1'] == node)]\n",
    "    \n",
    "    if len(temp) == 0: \n",
    "        return -1\n",
    "    else: \n",
    "        return temp.index[0]\n",
    "    \n",
    "def get_name_by_ind(pos_info, j, drug):\n",
    "    temp = pos_info.iloc[j]\n",
    "    gene, pos, ind1, ind2, act = temp['gene'], temp['pos'], temp['ind1'], temp['ind2'], temp['act']\n",
    "\n",
    "    if pos == 'changed':\n",
    "        return f\"{gene}_domain\"\n",
    "    elif pos == 'broken':\n",
    "        return f\"{gene}_broken\"\n",
    "    elif act == 'snp':\n",
    "        return f\"{gene}_{pos}_{ind2}_snp\"\n",
    "    elif ind2 == 'del':\n",
    "        return f\"{gene}_{pos}_{ind1}_{ind2}\"\n",
    "    elif act == 'del':\n",
    "        return f\"{gene}_{pos}_{ind2}_{act}\"\n",
    "    elif act == 'ins':\n",
    "        return f\"{gene}_{pos}_{ind2}_{act}\"\n",
    "    elif gene == 'structure':\n",
    "        return f\"{gene}_{pos}_{ind1}\"\n",
    "    \n",
    "def get_description(pos_info, ind):\n",
    "    gene, pos, fr, to, act = pos_info.loc[ind].values\n",
    "    if act == 'snp':\n",
    "        return [gene, pos, 'SNV', fr, to]\n",
    "    elif act == 'ins':\n",
    "        return [gene, pos, 'Insertion', fr, to]\n",
    "    elif act == 'del':\n",
    "        return [gene, pos, 'Deletion', fr, to]\n",
    "    elif to == 'del':\n",
    "        seq = annotation[annotation['gene'] == gene]['seq'].to_numpy()[0]\n",
    "        fr = seq[int(pos)-1: int(pos)+int(fr)]\n",
    "        return [gene, pos, 'Deletion', fr, \"-\"]\n",
    "    elif pos == 'changed':\n",
    "        temp = [i for i in gene.split('_') if not represents_int(i)]\n",
    "        new_gene = \"_\".join(temp[:-1])\n",
    "        domain = \"_\".join(gene.split('_')[len(new_gene.split('_')):])\n",
    "        return [new_gene, '-', f'{domain} is changed', '-', '-']\n",
    "        return f\"In {new_gene} PFAM {domain} is changed\"\n",
    "    elif pos == 'broken':\n",
    "        return [gene, '-', 'Broken', '-', '-']\n",
    "    elif gene == 'structure':\n",
    "        return [fr, '-', 'TreeBreaker clade', '-', '-']"
   ]
  },
  {
   "cell_type": "markdown",
   "metadata": {},
   "source": [
    "## Add statical info"
   ]
  },
  {
   "cell_type": "code",
   "execution_count": 36,
   "metadata": {},
   "outputs": [
    {
     "name": "stderr",
     "output_type": "stream",
     "text": [
      "  0%|          | 0/13 [00:01<?, ?it/s]\n"
     ]
    }
   ],
   "source": [
    "# Adding to the output abess feature description conjuction matrix and p-value fisher exact test for each split\n",
    "\n",
    "for drug in tqdm(drugs):\n",
    "    pos_info = pd.read_csv(f\"{data_dir_pre}/{drug}.gt.pos.domains.3.0\", sep='\\t', \n",
    "                              index_col=None, header=None, usecols=[0, 1, 2, 3, 4])\n",
    "    pos_info.columns = ['gene', 'pos', 'ind1', 'ind2', 'act']\n",
    "\n",
    "    for i in range(5):\n",
    "        pos_info_temp = pd.read_csv(f\"{data_dir_pre}/{drug}.gt.pos.domains.3.{i}\", sep='\\t', \n",
    "                              index_col=None, header=None, usecols=[0, 1, 2, 3, 4])\n",
    "        pos_info_temp.columns = ['gene', 'pos', 'ind1', 'ind2', 'act']\n",
    "\n",
    "        f = open(f\"{data_dir}/{drug}.gt.features.domains.{thr}.train.{i}\", 'r')\n",
    "        features_info = [[int(y) for y in x[:-1].split(', ')] for x in f.readlines()]\n",
    "        f.close()\n",
    "\n",
    "        if not os.path.exists(f\"{output_abess_lr}/{drug}/gic_{i}.csv\"): continue\n",
    "        temp = pd.read_csv(f\"{output_abess_lr}/{drug}/gic_{i}.csv\", sep='\\t', index_col=0, header=0)\n",
    "        indeces = [int(x) for x in temp.index]\n",
    "        indeces = [features_info[i][0] for i in indeces]\n",
    "        indeces = [get_ind_by_name(pos_info, get_name_by_ind(pos_info_temp, i, drug), drug) for i in indeces]\n",
    "\n",
    "        sel_indeces = deepcopy(indeces)\n",
    "        while -1 in sel_indeces: sel_indeces.remove(-1)\n",
    "\n",
    "        X_test = pd.read_csv(f\"{data_dir_pre}/{drug}.gt.domains.3.test.0\", sep=' ', \n",
    "                             index_col=None, header=None, usecols=sel_indeces)\n",
    "        X = X_test\n",
    "\n",
    "        y_test = pd.read_csv(f\"{data_dir_pre}/{drug}.phen.domains.3.test.0\", sep=' ', \n",
    "                             index_col=None, header=None)\n",
    "        y = y_test\n",
    "        X['y'] = y.to_numpy().ravel()\n",
    "\n",
    "        pvalues = []\n",
    "        values00 = []\n",
    "        values01 = []\n",
    "        values10 = []\n",
    "        values11 = []\n",
    "\n",
    "        for j in indeces:\n",
    "            if j == -1: \n",
    "                pvalues.append('-')\n",
    "                [value00, value01, value10, value11] = ['-', '-', '-', '-']\n",
    "            else: \n",
    "                pvalues.append(fisher(X[[j, 'y']]))\n",
    "                [value00, value01, value10, value11] = conj_matrix(X[[j, 'y']])\n",
    "\n",
    "            values00.append(value00)\n",
    "            values01.append(value01)\n",
    "            values10.append(value10)\n",
    "            values11.append(value11)\n",
    "        temp['0_0'] = values00\n",
    "        temp['0_1'] = values01\n",
    "        temp['1_0'] = values10\n",
    "        temp['1_1'] = values11\n",
    "        temp['pvalue'] = pvalues\n",
    "        temp.to_csv(f\"{output_abess_lr}/{drug}/fisher_gic_{i}.csv\", sep='\\t', header=True, index=True)"
   ]
  },
  {
   "cell_type": "markdown",
   "metadata": {},
   "source": [
    "## Feature table for ABESS (Table 4 and Table S11) and population structure table (TableS29)"
   ]
  },
  {
   "cell_type": "code",
   "execution_count": 7,
   "metadata": {},
   "outputs": [],
   "source": [
    "for drug in drugs:\n",
    "    \n",
    "    count_features = pd.DataFrame()\n",
    "    result = pd.DataFrame(columns=['gene', 'pos', 'act', 'from', 'to', 'num', \n",
    "                                   'name', 'coef', 'pvalue', '0_0', \n",
    "                                       '0_1', '1_0', '1_1', 'count'])\n",
    "    for i in range(5):\n",
    "        temp = pd.read_csv(f\"{output_abess_lr}/{drug}/fisher_gic_{i}.csv\", \n",
    "                           sep='\\t', index_col=0, header=0)\n",
    "\n",
    "        count_features = pd.concat([count_features, temp], axis=0)\n",
    "    count_features['count'] = 1    \n",
    "\n",
    "    count_features = count_features.groupby(['ext_feature']).agg({'coef': np.mean, \n",
    "                                                                  'count': np.sum,\n",
    "                                                                  'pvalue': lambda x: x.iloc[0],\n",
    "                                                                  '0_0': lambda x: x.iloc[0],\n",
    "                                                                  '0_1': lambda x: x.iloc[0],\n",
    "                                                                  '1_0': lambda x: x.iloc[0],\n",
    "                                                                  '1_1': lambda x: x.iloc[0]})\n",
    "    \n",
    "    count_features.sort_values('count', ascending=False, inplace=True)\n",
    "    \n",
    "    for j in range(len(count_features)):\n",
    "        names = count_features.index[j]\n",
    "        coef, count, pvalue, value00, value01, value10, value11 = count_features.to_numpy()[j]\n",
    "        for name in names.split(' '):\n",
    "            for i in range(5):\n",
    "                pos_info = pd.read_csv(f\"{data_dir_pre}/{drug}.gt.pos.domains.3.{i}\", sep='\\t', \n",
    "                                  index_col=None, header=None, usecols=[0, 1, 2, 3, 4])\n",
    "                pos_info.columns = ['gene', 'pos', 'ind1', 'ind2', 'act']\n",
    "                pos_info.fillna('Nope', inplace=True)\n",
    "                ind = get_ind_by_name(pos_info, name, drug)\n",
    "                if ind != -1:\n",
    "                    break\n",
    "                    \n",
    "            add = pd.DataFrame([[*get_description(pos_info, ind), j, name, coef, pvalue, value00,\n",
    "                                 value01, value10, value11, count]], \n",
    "                              columns=['gene', 'pos', 'act', 'from', 'to', \n",
    "                                       'num', 'name', 'coef', 'pvalue', '0_0', \n",
    "                                       '0_1', '1_0', '1_1', 'count'])\n",
    "            result = pd.concat([result, add])\n",
    "    result.drop(['name'], axis=1, inplace=True)\n",
    "    result['drug'] = drug\n",
    "    result.to_csv(f\"{final_output_abess}/{drug}.csv\", sep='\\t', index=False, header=True)"
   ]
  },
  {
   "cell_type": "code",
   "execution_count": 5,
   "metadata": {},
   "outputs": [],
   "source": [
    "# TableS11\n",
    "# Don't use this code block in the experiment with population structure\n",
    "all_data = pd.DataFrame(columns=['drug', 'gene', 'pos', 'act', 'from', 'to', \n",
    "                                       'num', 'coef', 'pvalue', '0_0', \n",
    "                                       '0_1', '1_0', '1_1', 'count'])\n",
    "for drug in drugs:\n",
    "    result = pd.read_csv(f\"{final_output_abess}/{drug}.csv\", sep='\\t', index_col=None, header=0)\n",
    "    result['drug'] = drug\n",
    "    all_data = pd.concat([all_data, result], axis=0)\n",
    "all_data.to_csv(f\"{final_output_abess}/TableS11.csv\", sep='\\t', header=None, index=None)"
   ]
  },
  {
   "cell_type": "code",
   "execution_count": 6,
   "metadata": {},
   "outputs": [],
   "source": [
    "# Table 4\n",
    "# If you want to get selected features table for matrix with TreeBreaker features\n",
    "# Change name of written table to TableS29\n",
    "table_name = 'TableS4.csv'\n",
    "\n",
    "all_data = pd.DataFrame(columns=['drug', 'gene', 'pos', 'act', 'from', 'to', 'count'])\n",
    "for drug in drugs:\n",
    "    result = pd.read_csv(f\"{final_output_abess}/{drug}.csv\", sep='\\t', index_col=None, header=0)\n",
    "    result['drug'] = drug\n",
    "    result = result[['drug', 'gene', 'pos', 'act', 'from', 'to', 'count']]\n",
    "    all_data = pd.concat([all_data, result], axis=0)\n",
    "all_data.to_csv(f\"{final_output_abess}/{table_name}\", sep='\\t', header=None, index=None)"
   ]
  },
  {
   "cell_type": "markdown",
   "metadata": {},
   "source": [
    "## Abess metrics (TableS17)"
   ]
  },
  {
   "cell_type": "code",
   "execution_count": 44,
   "metadata": {},
   "outputs": [],
   "source": [
    "metrics = pd.read_csv(f'{output_abess_lr}/auc_result.csv', index_col=0, header=0, sep='\\t')\n",
    "metrics = metrics[['mean_auc', 'mean_sensitivity', 'mean_specivity', 'mean_npv', 'mean_ppv']]\n",
    "metrics.to_csv(f'{final_output_abess}/TableS17.csv', sep='\\t', index=True, header=True)"
   ]
  },
  {
   "cell_type": "markdown",
   "metadata": {},
   "source": [
    "## Abess feature metrics"
   ]
  },
  {
   "cell_type": "code",
   "execution_count": 50,
   "metadata": {},
   "outputs": [],
   "source": [
    "abess_result = pd.DataFrame(index=drugs, \n",
    "                            columns=['res_gen', 'jacard', \n",
    "                                     'sel_true_gene', 'sel_false_gene'])\n",
    "for drug in drugs:\n",
    "    features = pd.read_csv(f\"{final_output_abess}/{drug}.csv\", sep='\\t', index_col=0, header=0)\n",
    "    features = features[features['count'] >= 3]\n",
    "\n",
    "    sel_genes = list(set([x.split('_')[0] for x in features.index]))\n",
    "    sel_genes = pd.DataFrame(sel_genes, columns=['gene'])\n",
    "    sel_genes['true'] = sel_genes['gene'].isin(res_data[res_data['drug'] == drug]['gene'])\n",
    "    sel_genes['temp'] = sel_genes['gene'].isin(res_data[res_data['drug'] != drug]['gene'])\n",
    "    sel_genes['false'] = ~sel_genes['true'] & sel_genes['temp']\n",
    "\n",
    "    res_gene = len(res_data[res_data['drug'] == drug])\n",
    "    sel_true_gene = np.sum(sel_genes['true'])\n",
    "    sel_false_gene = np.sum(sel_genes['false'])\n",
    "    jacard = sel_true_gene/(res_gene + len(features) - sel_true_gene)\n",
    "\n",
    "    abess_result.loc[drug] = [res_gene, jacard, sel_true_gene, sel_false_gene]\n",
    "abess_result.to_csv(f\"{final_output_abess}/abess_feature_metrics.csv\", sep='\\t', index=True, header=True)"
   ]
  }
 ],
 "metadata": {
  "kernelspec": {
   "display_name": "Python 3",
   "language": "python",
   "name": "python3"
  },
  "language_info": {
   "codemirror_mode": {
    "name": "ipython",
    "version": 3
   },
   "file_extension": ".py",
   "mimetype": "text/x-python",
   "name": "python",
   "nbconvert_exporter": "python",
   "pygments_lexer": "ipython3",
   "version": "3.6.10"
  }
 },
 "nbformat": 4,
 "nbformat_minor": 4
}
