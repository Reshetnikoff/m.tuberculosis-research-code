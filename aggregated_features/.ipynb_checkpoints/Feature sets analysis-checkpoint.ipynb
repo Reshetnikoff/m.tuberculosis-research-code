{
 "cells": [
  {
   "cell_type": "markdown",
   "metadata": {},
   "source": [
    "# Notebook for making table with quality comparasion and disperssion of different feature datasets (TableS2-S10)"
   ]
  },
  {
   "cell_type": "code",
   "execution_count": 1,
   "metadata": {},
   "outputs": [],
   "source": [
    "# Configutation part #\n",
    "\n",
    "# Output of lr_snp_indel.py\n",
    "snp_indel_dir = './output/snp_indel'\n",
    "# Output of lr_snp_indel_thr1.py\n",
    "snp_indel_thr1_dir = './output/snp_indel_thr1'\n",
    "# Output of lr_snp_indel_pfam.py\n",
    "snp_indel_pfam_dir = './output/snp_indel_pfam'\n",
    "# Output of lr_snp_indel_broken.py\n",
    "snp_indel_broken_dir = \"./output/snp_indel_broken\"\n",
    "# Output of lr_snp_indel_aggr.py\n",
    "snp_indel_aggr_dir = \"./output/snp_indel_aggr\"\n",
    "# Output directory\n",
    "output_dir = './result_feature_sets'\n",
    "\n",
    "######################"
   ]
  },
  {
   "cell_type": "code",
   "execution_count": 1,
   "metadata": {},
   "outputs": [],
   "source": [
    "import os\n",
    "\n",
    "import pandas as pd\n",
    "import numpy as np\n",
    "\n",
    "import seaborn as sns\n",
    "\n",
    "from scipy.stats import ttest_rel\n",
    "from scipy.stats import ttest_ind\n",
    "from scipy.stats import wilcoxon\n",
    "from scipy.stats import ranksums\n",
    "\n",
    "import matplotlib.pyplot as plt"
   ]
  },
  {
   "cell_type": "code",
   "execution_count": 2,
   "metadata": {},
   "outputs": [],
   "source": [
    "if not os.path.exists(output_dir):\n",
    "    os.makedirs(output_dir)\n",
    "\n",
    "drugs = ['Rifampicin',\n",
    "         'Isoniazid',\n",
    "         'Pyrazinamide',\n",
    "         'Ethambutol',\n",
    "         'Streptomycin',\n",
    "         'Kanamycin',\n",
    "         'Amikacin',\n",
    "         'Capreomycin',\n",
    "            'Ofloxacin',\n",
    "         'Moxifloxacin',\n",
    "         'Ciprofloxacin',\n",
    "        'Ethionamide',\n",
    "         'Prothionamide']\n",
    "\n",
    "drug_with_groups = { 'Rifampicin': 'Rifampicin',\n",
    "                     'Isoniazid': 'Isoniazid',\n",
    "                     'Pyrazinamide': 'Pyrazinamide',\n",
    "                     'Ethambutol': 'Ethambutol',\n",
    "                     'Streptomycin': 'Streptomycin',\n",
    "                    'First line': [\"Isoniazid\", \n",
    "                                    \"Rifampicin\", \n",
    "                                    \"Pyrazinamide\", \n",
    "                                    \"Ethambutol\", \n",
    "                                    \"Streptomycin\"],\n",
    "                        'Kanamycin': 'Kanamycin',\n",
    "                         'Amikacin': 'Amikacin',\n",
    "                         'Capreomycin': 'Capreomycin',\n",
    "                            'Aminoglycosides': ['Amikacin', \n",
    "                                                'Kanamycin', \n",
    "                                                'Capreomycin', \n",
    "                                                \"Streptomycin\"],\n",
    "                        'Moxifloxacin': 'Moxifloxacin',\n",
    "                        'Ofloxacin': 'Ofloxacin',\n",
    "                        'Ciprofloxacin': 'Ciprofloxacin',\n",
    "                        'Fluoroquinolones': ['Moxifloxacin', \n",
    "                                             'Ofloxacin', \n",
    "                                             'Ciprofloxacin'],\n",
    "                        'Ethionamide': 'Ethionamide',\n",
    "                        'Prothionamide': 'Prothionamide',\n",
    "                          'Second line': [\"Amikacin\", \n",
    "                                         \"Ciprofloxacin\", \n",
    "                                         \"Kanamycin\", \n",
    "                                         \"Ofloxacin\", \n",
    "                                         \"Capreomycin\",\n",
    "                                        \"Ethionamide\",\n",
    "                                        \"Prothionamide\",\n",
    "                                        \"Moxifloxacin\"],\n",
    "                        'All drugs': drugs\n",
    "}\n",
    "\n",
    "groups = { 'First line': [\"Isoniazid\", \n",
    "                \"Rifampicin\", \n",
    "                \"Pyrazinamide\", \n",
    "                \"Ethambutol\", \n",
    "                \"Streptomycin\"],\n",
    "          'Second line': [\"Amikacin\", \n",
    "                 \"Ciprofloxacin\", \n",
    "                 \"Kanamycin\", \n",
    "                 \"Ofloxacin\", \n",
    "                 \"Capreomycin\",\n",
    "                \"Ethionamide\",\n",
    "                \"Prothionamide\",\n",
    "                \"Moxifloxacin\"],\n",
    "          'Aminoglycosides': ['Amikacin', 'Kanamycin', 'Capreomycin', \"Streptomycin\"],\n",
    "          'Fluoroquinolones': ['Moxifloxacin', 'Ofloxacin', 'Ciprofloxacin'],\n",
    "          'All drugs': drugs\n",
    "}"
   ]
  },
  {
   "cell_type": "markdown",
   "metadata": {},
   "source": [
    "## Supplement Functions"
   ]
  },
  {
   "cell_type": "code",
   "execution_count": 3,
   "metadata": {},
   "outputs": [],
   "source": [
    "def f1_score(TP, FP, FN):\n",
    "    return TP/(TP + 1/2*(FP + FN))"
   ]
  },
  {
   "cell_type": "markdown",
   "metadata": {},
   "source": [
    "## Average dispersion for different feature sets"
   ]
  },
  {
   "cell_type": "code",
   "execution_count": 3,
   "metadata": {},
   "outputs": [],
   "source": [
    "result = pd.DataFrame(index=drugs, columns=['SNPs & Indels without filration', \n",
    "                                            'SNPs & Indels & PFAM',\n",
    "                                            'SNPs & Indels & Broken gene',\n",
    "                                            'SNPs & Indels & Aggr. gene'])\n",
    "for drug in drugs:\n",
    "    data = pd.read_csv(f\"{snp_indel_thr1_dir}/{drug}/result.csv\", sep='\\t', index_col=None, header=0)\n",
    "    temp = data[['n_iter', 'auc']].groupby('n_iter').mean()\n",
    "    result.loc[drug, 'SNPs & Indels without filration'] = np.var(temp, ddof=1)[0]\n",
    "    \n",
    "    data = pd.read_csv(f\"{snp_indel_pfam_dir}/{drug}/result.csv\", sep='\\t', index_col=None, header=0)\n",
    "    temp = data[['n_iter', 'auc']].groupby('n_iter').mean()\n",
    "    result.loc[drug, 'SNPs & Indels & PFAM'] = np.var(temp, ddof=1)[0]\n",
    "    \n",
    "    data = pd.read_csv(f\"{snp_indel_broken_dir}/{drug}/result.csv\", sep='\\t', index_col=None, header=0)\n",
    "    temp = data[['n_iter', 'auc']].groupby('n_iter').mean()\n",
    "    result.loc[drug, 'SNPs & Indels & Broken gene'] = np.var(temp, ddof=1)[0]\n",
    "    \n",
    "    data = pd.read_csv(f\"{snp_indel_aggr_dir}/{drug}/result.csv\", sep='\\t', index_col=None, header=0)\n",
    "    temp = data[['n_iter', 'auc']].groupby('n_iter').mean()\n",
    "    result.loc[drug, 'SNPs & Indels & Aggr. gene'] = np.var(temp, ddof=1)[0]"
   ]
  },
  {
   "cell_type": "code",
   "execution_count": 4,
   "metadata": {},
   "outputs": [],
   "source": [
    "result.to_csv(f\"{output_dir}/TableS8.csv\", sep='\\t', index=True, header=True)"
   ]
  },
  {
   "cell_type": "markdown",
   "metadata": {},
   "source": [
    "## Comparation of different sets (Figure 2)"
   ]
  },
  {
   "cell_type": "code",
   "execution_count": 10,
   "metadata": {},
   "outputs": [
    {
     "data": {
      "image/png": "[encoded data removed]",
      "text/plain": [
       "<Figure size 1008x432 with 1 Axes>"
      ]
     },
     "metadata": {
      "needs_background": "light"
     },
     "output_type": "display_data"
    },
    {
     "data": {
      "text/plain": [
       "<Figure size 2160x4320 with 0 Axes>"
      ]
     },
     "metadata": {},
     "output_type": "display_data"
    }
   ],
   "source": [
    "result = pd.DataFrame(columns=['snp_indel', 'snp_indel_aggr', 'p-value'])\n",
    "k = 0\n",
    "for drug in drugs:\n",
    "    data = pd.read_csv(f\"{snp_indel_dir}/{drug}/result.csv\", sep='\\t', index_col=None, header=0)\n",
    "    temp_1 = data[['n_iter', 'auc']].groupby('n_iter').mean()\n",
    "    \n",
    "    \n",
    "    data = pd.read_csv(f\"{snp_indel_aggr_dir}/{drug}/result.csv\", sep='\\t', index_col=None, header=0)\n",
    "    temp_2 = data[['n_iter', 'auc']].groupby('n_iter').mean()\n",
    "    \n",
    "    pvalue = ttest_rel(temp_1['auc'], temp_2['auc'])[1]\n",
    "    \n",
    "    result.loc[drug] = [temp_1.mean()[0], temp_2.mean()[0], pvalue]\n",
    "    k += 1\n",
    "\n",
    "xticks = drugs\n",
    "Scores = result[['snp_indel', 'snp_indel_aggr']]\n",
    "\n",
    "names = [\"snp_indel\", \"snp_indel_aggr\"]\n",
    "fig, ax = plt.subplots()\n",
    "\n",
    "plt.title('Snp&indel and snp&indel&aggr auc comparasion')\n",
    "pd.DataFrame(Scores, index=xticks, columns=names).plot.bar(figsize=(14,6), ax=ax, color=['red', 'blue'])\n",
    "plt.figure(figsize=(30,60))\n",
    "\n",
    "\n",
    "plt.show()"
   ]
  },
  {
   "cell_type": "code",
   "execution_count": 11,
   "metadata": {},
   "outputs": [
    {
     "data": {
      "image/png": "[encoded data removed]",
      "text/plain": [
       "<Figure size 1008x432 with 1 Axes>"
      ]
     },
     "metadata": {
      "needs_background": "light"
     },
     "output_type": "display_data"
    },
    {
     "data": {
      "text/plain": [
       "<Figure size 2880x7200 with 0 Axes>"
      ]
     },
     "metadata": {},
     "output_type": "display_data"
    }
   ],
   "source": [
    "result = pd.DataFrame(columns=['SNPs & Indels', 'SNPs & Indels & PFAM', 'p-value'])\n",
    "k = 0\n",
    "for drug in drugs:\n",
    "    data = pd.read_csv(f\"{snp_indel_dir}/{drug}/result.csv\", sep='\\t', index_col=None, header=0)\n",
    "    temp_1 = data[['n_iter', 'auc']].groupby('n_iter').mean()\n",
    "    \n",
    "    data = pd.read_csv(f\"{snp_indel_pfam_dir}/{drug}/result.csv\", sep='\\t', index_col=None, header=0)\n",
    "    temp_2 = data[['n_iter', 'auc']].groupby('n_iter').mean()\n",
    "    \n",
    "    pvalue = ttest_rel(temp_1['auc'], temp_2['auc'])[1]\n",
    "    \n",
    "    result.loc[drug] = [temp_1.mean()[0], temp_2.mean()[0], pvalue]\n",
    "    k += 1\n",
    "    \n",
    "new_result = pd.DataFrame(columns=['SNPs & Indels', 'SNPs & Indels & PFAM'])\n",
    "for key in groups.keys():\n",
    "    new_result.loc[key] = np.mean(result.loc[groups[key]], axis=0)\n",
    "    \n",
    "xticks = new_result.index\n",
    "Scores = new_result[['SNPs & Indels', 'SNPs & Indels & PFAM']]\n",
    "\n",
    "names = [\"SNPs & Indels\", \"SNPs & Indels & PFAM\"]\n",
    "fig, ax = plt.subplots()\n",
    "\n",
    "ax.xaxis.label.set_size(50)\n",
    "pd.DataFrame(Scores, index=xticks, columns=names).plot.bar(figsize=(14,6), ylim=(0.85, 1.05), \n",
    "                                                           fontsize=15, ax=ax, color=['red', 'blue'])\n",
    "plt.figure(figsize=(40,100))\n",
    "\n",
    "\n",
    "plt.show()"
   ]
  },
  {
   "cell_type": "code",
   "execution_count": 12,
   "metadata": {},
   "outputs": [
    {
     "data": {
      "image/png": "[encoded data removed]",
      "text/plain": [
       "<Figure size 1008x432 with 1 Axes>"
      ]
     },
     "metadata": {
      "needs_background": "light"
     },
     "output_type": "display_data"
    },
    {
     "data": {
      "text/plain": [
       "<Figure size 2160x4320 with 0 Axes>"
      ]
     },
     "metadata": {},
     "output_type": "display_data"
    }
   ],
   "source": [
    "result = pd.DataFrame(columns=['SNPs & Indels', \"SNPs & Indels & Broken Gene\", 'p-value'])\n",
    "k = 0\n",
    "for drug in drugs:\n",
    "    data = pd.read_csv(f\"{snp_indel_dir}/{drug}/result.csv\", sep='\\t', index_col=None, header=0)\n",
    "    temp_1 = data[['n_iter', 'auc']].groupby('n_iter').mean()\n",
    "    \n",
    "    data = pd.read_csv(f\"{snp_indel_broken_dir}/{drug}/result.csv\", sep='\\t', index_col=None, header=0)\n",
    "    temp_2 = data[['n_iter', 'auc']].groupby('n_iter').mean()\n",
    "    \n",
    "    pvalue = ttest_rel(temp_1['auc'], temp_2['auc'])[1]\n",
    "    \n",
    "    result.loc[drug] = [temp_1.mean()[0], temp_2.mean()[0], pvalue]\n",
    "    k += 1\n",
    "    \n",
    "new_result = pd.DataFrame(columns=['SNPs & Indels', \"SNPs & Indels & Broken Gene\"])\n",
    "for key in groups.keys():\n",
    "    new_result.loc[key] = np.mean(result.loc[groups[key]])\n",
    "    \n",
    "xticks = new_result.index\n",
    "Scores = new_result[['SNPs & Indels', \"SNPs & Indels & Broken Gene\"]]\n",
    "\n",
    "names = ['SNPs & Indels', \"SNPs & Indels & Broken Gene\"]\n",
    "fig, ax = plt.subplots()\n",
    "\n",
    "pd.DataFrame(Scores, index=xticks, columns=names).plot.bar(figsize=(14,6), ylim=(0.87, 1.03), \n",
    "                                                           fontsize=15, ax=ax, color=['red', 'blue'])\n",
    "plt.figure(figsize=(30,60))\n",
    "\n",
    "\n",
    "plt.show()"
   ]
  },
  {
   "cell_type": "code",
   "execution_count": 13,
   "metadata": {},
   "outputs": [
    {
     "data": {
      "image/png": "[encoded data removed]",
      "text/plain": [
       "<Figure size 1008x432 with 1 Axes>"
      ]
     },
     "metadata": {
      "needs_background": "light"
     },
     "output_type": "display_data"
    },
    {
     "data": {
      "text/plain": [
       "<Figure size 2160x4320 with 0 Axes>"
      ]
     },
     "metadata": {},
     "output_type": "display_data"
    }
   ],
   "source": [
    "result = pd.DataFrame(columns=['SNPs & Indels', \"SNPs & Indels & Aggr. genes\", 'p-value'])\n",
    "k = 0\n",
    "for drug in drugs:\n",
    "    data = pd.read_csv(f\"{snp_indel_dir}/{drug}/result.csv\", sep='\\t', index_col=None, header=0)\n",
    "    temp_1 = data[['n_iter', 'auc']].groupby('n_iter').mean()\n",
    "    \n",
    "    data = pd.read_csv(f\"{snp_indel_aggr_dir}/{drug}/result.csv\", sep='\\t', index_col=None, header=0)\n",
    "    temp_2 = data[['n_iter', 'auc']].groupby('n_iter').mean()\n",
    "    \n",
    "    pvalue = ttest_rel(temp_1['auc'], temp_2['auc'])[1]\n",
    "    \n",
    "    result.loc[drug] = [temp_1.mean()[0], temp_2.mean()[0], pvalue]\n",
    "    k += 1\n",
    "    \n",
    "new_result = pd.DataFrame(columns=['SNPs & Indels', \"SNPs & Indels & Aggr. genes\"])\n",
    "for key in groups.keys():\n",
    "    new_result.loc[key] = np.mean(result.loc[groups[key]])\n",
    "    \n",
    "xticks = new_result.index\n",
    "Scores = new_result[['SNPs & Indels', \"SNPs & Indels & Aggr. genes\"]]\n",
    "\n",
    "names = ['SNPs & Indels', \"SNPs & Indels & Aggr. genes\"]\n",
    "fig, ax = plt.subplots()\n",
    "\n",
    "pd.DataFrame(Scores, index=xticks, columns=names).plot.bar(figsize=(14,6), ylim=(0.85, 1.05), \n",
    "                                                           fontsize=15, ax=ax, color=['red', 'blue'])\n",
    "plt.figure(figsize=(30,60))\n",
    "\n",
    "\n",
    "plt.show()"
   ]
  },
  {
   "cell_type": "markdown",
   "metadata": {},
   "source": [
    "## Comparation feature sets (Supplement tables - S2-S7,9,10)"
   ]
  },
  {
   "cell_type": "markdown",
   "metadata": {},
   "source": [
    "### Comparation indels and SNPs with and without PFAM, AUC metric (Table S2)"
   ]
  },
  {
   "cell_type": "code",
   "execution_count": 15,
   "metadata": {},
   "outputs": [],
   "source": [
    "result = pd.DataFrame(index=drugs, columns=['ROC AUC, SNPs & Indels without filtration', \n",
    "                                            'ROC AUC, SNPs & Indels & PFAM'])\n",
    "\n",
    "result_1 = pd.DataFrame(columns=drugs)\n",
    "result_2 = pd.DataFrame(columns=drugs)\n",
    "k = 0\n",
    "\n",
    "for drug in drugs:\n",
    "    data = pd.read_csv(f\"{snp_indel_dir}/{drug}/result.csv\", sep='\\t', index_col=None, header=0)\n",
    "    result_1.loc[:,drug] = data[['n_iter', 'auc']].groupby('n_iter').mean()['auc']\n",
    "    \n",
    "    data = pd.read_csv(f\"{snp_indel_pfam_dir}/{drug}/result.csv\", sep='\\t', index_col=None, header=0)    \n",
    "    result_2.loc[:,drug] = data[['n_iter', 'auc']].groupby('n_iter').mean()['auc']\n",
    "    \n",
    "for key in drug_with_groups.keys():\n",
    "    if type(drug_with_groups[key]) == list:\n",
    "        temp_1 = np.mean(result_1[drug_with_groups[key]], axis=1)\n",
    "    else:\n",
    "        temp_1 = result_1[drug_with_groups[key]]\n",
    "    \n",
    "    if type(drug_with_groups[key]) == list:\n",
    "        temp_2 = np.mean(result_2[drug_with_groups[key]], axis=1)\n",
    "    else:\n",
    "        temp_2 = result_2[drug_with_groups[key]]\n",
    "        \n",
    "    p_value = wilcoxon(temp_1.values, temp_2.values)[1]\n",
    "    \n",
    "    result.loc[key, 'ROC AUC, SNPs & Indels without filtration'] = temp_1.mean()\n",
    "    result.loc[key, 'ROC AUC, SNPs & Indels & PFAM'] = temp_2.mean()\n",
    "    result.loc[key, 'p_value'] = p_value\n",
    "    \n",
    "    result.to_csv(f\"{output_dir}/TableS2.csv\", sep='\\t', index=True, header=True)"
   ]
  },
  {
   "cell_type": "markdown",
   "metadata": {},
   "source": [
    "### Comparation indels and SNPs with and without 'Broken' features, AUC metric (Table S3)"
   ]
  },
  {
   "cell_type": "code",
   "execution_count": 5,
   "metadata": {},
   "outputs": [],
   "source": [
    "result = pd.DataFrame(index=drugs, columns=['ROC AUC, SNPs & Indels without filtration', \n",
    "                                            'ROC AUC, SNPs & Indels & Broken genes'])\n",
    "\n",
    "result_1 = pd.DataFrame(columns=drugs)\n",
    "result_2 = pd.DataFrame(columns=drugs)\n",
    "k = 0\n",
    "\n",
    "for drug in drugs:\n",
    "    data = pd.read_csv(f\"{snp_indel_dir}/{drug}/result.csv\", sep='\\t', index_col=None, header=0)\n",
    "    result_1.loc[:,drug] = data[['n_iter', 'auc']].groupby('n_iter').mean()['auc']\n",
    "    \n",
    "    data = pd.read_csv(f\"{snp_indel_broken_dir}/{drug}/result.csv\", sep='\\t', index_col=None, header=0)    \n",
    "    result_2.loc[:,drug] = data[['n_iter', 'auc']].groupby('n_iter').mean()['auc']\n",
    "\n",
    "for key in drug_with_groups.keys():\n",
    "    if type(drug_with_groups[key]) == list:\n",
    "        temp_1 = np.mean(result_1[drug_with_groups[key]], axis=1)\n",
    "    else:\n",
    "        temp_1 = result_1[drug_with_groups[key]]\n",
    "    \n",
    "    if type(drug_with_groups[key]) == list:\n",
    "        temp_2 = np.mean(result_2[drug_with_groups[key]], axis=1)\n",
    "    else:\n",
    "        temp_2 = result_2[drug_with_groups[key]]\n",
    "        \n",
    "    p_value = wilcoxon(temp_1.values, temp_2.values)[1]\n",
    "    \n",
    "    result.loc[key, 'ROC AUC, SNPs & Indels without filtration'] = temp_1.mean()\n",
    "    result.loc[key, 'ROC AUC, SNPs & Indels & Broken genes'] = temp_2.mean()\n",
    "    result.loc[key, 'p_value'] = p_value\n",
    "    \n",
    "    result.to_csv(f\"{output_dir}/TableS3.csv\", sep='\\t', index=True, header=True)"
   ]
  },
  {
   "cell_type": "markdown",
   "metadata": {},
   "source": [
    "### Comparation indels and SNPs with and without aggregated features, AUC metric (Table S4)"
   ]
  },
  {
   "cell_type": "code",
   "execution_count": 6,
   "metadata": {},
   "outputs": [],
   "source": [
    "result = pd.DataFrame(index=drugs, columns=['ROC AUC, SNPs & Indels without filtration', \n",
    "                                            'ROC AUC, SNPs & Indels & Aggr. genes'])\n",
    "\n",
    "result_1 = pd.DataFrame(columns=drugs)\n",
    "result_2 = pd.DataFrame(columns=drugs)\n",
    "k = 0\n",
    "\n",
    "for drug in drugs:\n",
    "    data = pd.read_csv(f\"{snp_indel_dir}/{drug}/result.csv\", sep='\\t', index_col=None, header=0)\n",
    "    result_1.loc[:,drug] = data[['n_iter', 'auc']].groupby('n_iter').mean()['auc']\n",
    "    \n",
    "    data = pd.read_csv(f\"{snp_indel_aggr_dir}/{drug}/result.csv\", sep='\\t', index_col=None, header=0)    \n",
    "    result_2.loc[:,drug] = data[['n_iter', 'auc']].groupby('n_iter').mean()['auc']\n",
    "    \n",
    "for key in drug_with_groups.keys():\n",
    "    if type(drug_with_groups[key]) == list:\n",
    "        temp_1 = np.mean(result_1[drug_with_groups[key]], axis=1)\n",
    "    else:\n",
    "        temp_1 = result_1[drug_with_groups[key]]\n",
    "    \n",
    "    if type(drug_with_groups[key]) == list:\n",
    "        temp_2 = np.mean(result_2[drug_with_groups[key]], axis=1)\n",
    "    else:\n",
    "        temp_2 = result_2[drug_with_groups[key]]\n",
    "        \n",
    "    p_value = wilcoxon(temp_1.values, temp_2.values)[1]\n",
    "    \n",
    "    result.loc[key, 'ROC AUC, SNPs & Indels without filtration'] = temp_1.mean()\n",
    "    result.loc[key, 'ROC AUC, SNPs & Indels & Aggr. genes'] = temp_2.mean()\n",
    "    result.loc[key, 'p_value'] = p_value\n",
    "    \n",
    "    result.to_csv(f\"{output_dir}/TableS4.csv\", sep='\\t', index=True, header=True)"
   ]
  },
  {
   "cell_type": "markdown",
   "metadata": {},
   "source": [
    "### Comparation indels and SNPs with and without PFAM, F1 metric (Table S5)"
   ]
  },
  {
   "cell_type": "code",
   "execution_count": 8,
   "metadata": {},
   "outputs": [],
   "source": [
    "# PFAM, F1\n",
    "result = pd.DataFrame(index=drugs, columns=['F1, SNPs & Indels without filtration', \n",
    "                                            'F1, SNPs & Indels & PFAM'])\n",
    "\n",
    "result_1 = pd.DataFrame(columns=drugs)\n",
    "result_2 = pd.DataFrame(columns=drugs)\n",
    "k = 0\n",
    "\n",
    "for drug in drugs:\n",
    "    data = pd.read_csv(f\"{snp_indel_dir}/{drug}/result.csv\", sep='\\t', index_col=None, header=0)\n",
    "    data['f1_score'] = f1_score(data['TP'], data['FP'], data['FN'])\n",
    "    result_1.loc[:,drug] = data[['n_iter', 'f1_score']].groupby('n_iter').mean()['f1_score']\n",
    "    \n",
    "    data = pd.read_csv(f\"{snp_indel_pfam_dir}/{drug}/result.csv\", sep='\\t', index_col=None, header=0)    \n",
    "    data['f1_score'] = f1_score(data['TP'], data['FP'], data['FN'])\n",
    "    result_2.loc[:,drug] = data[['n_iter', 'f1_score']].groupby('n_iter').mean()['f1_score']\n",
    "    \n",
    "for key in drug_with_groups.keys():\n",
    "    if type(drug_with_groups[key]) == list:\n",
    "        temp_1 = np.mean(result_1[drug_with_groups[key]], axis=1)\n",
    "    else:\n",
    "        temp_1 = result_1[drug_with_groups[key]]\n",
    "    \n",
    "    if type(drug_with_groups[key]) == list:\n",
    "        temp_2 = np.mean(result_2[drug_with_groups[key]], axis=1)\n",
    "    else:\n",
    "        temp_2 = result_2[drug_with_groups[key]]\n",
    "        \n",
    "    p_value = wilcoxon(temp_1.values, temp_2.values)[1]\n",
    "    \n",
    "    result.loc[key, 'F1, SNPs & Indels without filtration'] = temp_1.mean()\n",
    "    result.loc[key, 'F1, SNPs & Indels & PFAM'] = temp_2.mean()\n",
    "    result.loc[key, 'p_value'] = p_value\n",
    "    \n",
    "    result.to_csv(f\"{output_dir}/TableS5.csv\", sep='\\t', index=True, header=True)"
   ]
  },
  {
   "cell_type": "markdown",
   "metadata": {},
   "source": [
    "### Comparation indels and SNPs with and without 'Broken' features, F1 metric (Table S6)"
   ]
  },
  {
   "cell_type": "code",
   "execution_count": 9,
   "metadata": {},
   "outputs": [],
   "source": [
    "result = pd.DataFrame(index=drugs, columns=['F1, SNPs & Indels without filtration', \n",
    "                                            'F1, SNPs & Indels & Broken genes'])\n",
    "\n",
    "result_1 = pd.DataFrame(columns=drugs)\n",
    "result_2 = pd.DataFrame(columns=drugs)\n",
    "k = 0\n",
    "\n",
    "for drug in drugs:\n",
    "    data = pd.read_csv(f\"{snp_indel_dir}/{drug}/result.csv\", sep='\\t', index_col=None, header=0)\n",
    "    data['f1_score'] = f1_score(data['TP'], data['FP'], data['FN'])\n",
    "    result_1.loc[:,drug] = data[['n_iter', 'f1_score']].groupby('n_iter').mean()['f1_score']\n",
    "    \n",
    "    data = pd.read_csv(f\"{snp_indel_broken_dir}/{drug}/result.csv\", sep='\\t', index_col=None, header=0)    \n",
    "    data['f1_score'] = f1_score(data['TP'], data['FP'], data['FN'])\n",
    "    result_2.loc[:,drug] = data[['n_iter', 'f1_score']].groupby('n_iter').mean()['f1_score']\n",
    "    \n",
    "for key in drug_with_groups.keys():\n",
    "    if type(drug_with_groups[key]) == list:\n",
    "        temp_1 = np.mean(result_1[drug_with_groups[key]], axis=1)\n",
    "    else:\n",
    "        temp_1 = result_1[drug_with_groups[key]]\n",
    "    \n",
    "    if type(drug_with_groups[key]) == list:\n",
    "        temp_2 = np.mean(result_2[drug_with_groups[key]], axis=1)\n",
    "    else:\n",
    "        temp_2 = result_2[drug_with_groups[key]]\n",
    "        \n",
    "    p_value = wilcoxon(temp_1.values, temp_2.values)[1]\n",
    "    \n",
    "    result.loc[key, 'F1, SNPs & Indels without filtration'] = temp_1.mean()\n",
    "    result.loc[key, 'F1, SNPs & Indels & Broken genes'] = temp_2.mean()\n",
    "    result.loc[key, 'p_value'] = p_value\n",
    "    \n",
    "    result.to_csv(f\"{output_dir}/TableS6.csv\", sep='\\t', index=True, header=True)"
   ]
  },
  {
   "cell_type": "markdown",
   "metadata": {},
   "source": [
    "### Comparation indels and SNPs with and without aggregated features, F1 metric (Table S7)"
   ]
  },
  {
   "cell_type": "code",
   "execution_count": 18,
   "metadata": {},
   "outputs": [],
   "source": [
    "result = pd.DataFrame(index=drugs, columns=['F1, SNPs & Indels without filtration', \n",
    "                                            'F1, SNPs & Indels & Aggr. genes'])\n",
    "\n",
    "result_1 = pd.DataFrame(columns=drugs)\n",
    "result_2 = pd.DataFrame(columns=drugs)\n",
    "k = 0\n",
    "\n",
    "for drug in drugs:\n",
    "    data = pd.read_csv(f\"{snp_indel_dir}/{drug}/result.csv\", sep='\\t', index_col=None, header=0)\n",
    "    data['f1_score'] = f1_score(data['TP'], data['FP'], data['FN'])\n",
    "    result_1.loc[:,drug] = data[['n_iter', 'f1_score']].groupby('n_iter').mean()['f1_score']\n",
    "    \n",
    "    data = pd.read_csv(f\"{snp_indel_aggr_dir}/{drug}/result.csv\", sep='\\t', index_col=None, header=0)    \n",
    "    data['f1_score'] = f1_score(data['TP'], data['FP'], data['FN'])\n",
    "    result_2.loc[:,drug] = data[['n_iter', 'f1_score']].groupby('n_iter').mean()['f1_score']\n",
    "    \n",
    "for key in drug_with_groups.keys():\n",
    "    if type(drug_with_groups[key]) == list:\n",
    "        temp_1 = np.mean(result_1[drug_with_groups[key]], axis=1)\n",
    "    else:\n",
    "        temp_1 = result_1[drug_with_groups[key]]\n",
    "    \n",
    "    if type(drug_with_groups[key]) == list:\n",
    "        temp_2 = np.mean(result_2[drug_with_groups[key]], axis=1)\n",
    "    else:\n",
    "        temp_2 = result_2[drug_with_groups[key]]\n",
    "        \n",
    "    p_value = wilcoxon(temp_1.values, temp_2.values)[1]\n",
    "    \n",
    "    result.loc[key, 'F1, SNPs & Indels without filtration'] = temp_1.mean()\n",
    "    result.loc[key, 'F1, SNPs & Indels & Aggr. genes'] = temp_2.mean()\n",
    "    result.loc[key, 'p_value'] = p_value\n",
    "    \n",
    "    result.to_csv(f\"{output_dir}/TableS7.csv\", sep='\\t', index=True, header=True)"
   ]
  },
  {
   "cell_type": "markdown",
   "metadata": {},
   "source": [
    "### Comparation indels & SNPs with PFAM features and aggregated features, AUC metric (Table S9)"
   ]
  },
  {
   "cell_type": "code",
   "execution_count": 11,
   "metadata": {},
   "outputs": [],
   "source": [
    "# PFAM vs Aggr, AUC\n",
    "result = pd.DataFrame(index=drugs, columns=['ROC AUC, SNPs & Indels & PFAM', \n",
    "                                            'ROC AUC, SNPs & Indels & Aggr. genes'])\n",
    "\n",
    "result_1 = pd.DataFrame(columns=drugs)\n",
    "result_2 = pd.DataFrame(columns=drugs)\n",
    "k = 0\n",
    "\n",
    "for drug in drugs:\n",
    "    data = pd.read_csv(f\"{snp_indel_pfam_dir}/{drug}/result.csv\", sep='\\t', index_col=None, header=0)\n",
    "    result_1.loc[:,drug] = data[['n_iter', 'auc']].groupby('n_iter').mean()['auc']\n",
    "    \n",
    "    data = pd.read_csv(f\"{snp_indel_aggr_dir}/{drug}/result.csv\", sep='\\t', index_col=None, header=0)    \n",
    "    result_2.loc[:,drug] = data[['n_iter', 'auc']].groupby('n_iter').mean()['auc']\n",
    "    \n",
    "for key in drug_with_groups.keys():\n",
    "    if type(drug_with_groups[key]) == list:\n",
    "        temp_1 = np.mean(result_1[drug_with_groups[key]], axis=1)\n",
    "    else:\n",
    "        temp_1 = result_1[drug_with_groups[key]]\n",
    "    \n",
    "    if type(drug_with_groups[key]) == list:\n",
    "        temp_2 = np.mean(result_2[drug_with_groups[key]], axis=1)\n",
    "    else:\n",
    "        temp_2 = result_2[drug_with_groups[key]]\n",
    "        \n",
    "    p_value = wilcoxon(temp_1.values, temp_2.values)[1]\n",
    "    \n",
    "    result.loc[key, 'ROC AUC, SNPs & Indels & PFAM'] = temp_1.mean()\n",
    "    result.loc[key, 'ROC AUC, SNPs & Indels & Aggr. genes'] = temp_2.mean()\n",
    "    result.loc[key, 'p_value'] = p_value\n",
    "    \n",
    "    result.to_csv(f\"{output_dir}/TableS9.csv\", sep='\\t', index=True, header=True)"
   ]
  },
  {
   "cell_type": "markdown",
   "metadata": {},
   "source": [
    "### Comparation indels & SNPs with PFAM features and aggregated features, F1 metric (Table S10)"
   ]
  },
  {
   "cell_type": "code",
   "execution_count": 12,
   "metadata": {},
   "outputs": [],
   "source": [
    "# Aggr vs PDAM, AUC\n",
    "result = pd.DataFrame(index=drugs, columns=['F1, SNPs & Indels & PFAM', \n",
    "                                            'F1, SNPs & Indels & Aggr. genes'])\n",
    "\n",
    "result_1 = pd.DataFrame(columns=drugs)\n",
    "result_2 = pd.DataFrame(columns=drugs)\n",
    "k = 0\n",
    "\n",
    "for drug in drugs:\n",
    "    data = pd.read_csv(f\"{snp_indel_pfam_dir}/{drug}/result.csv\", sep='\\t', index_col=None, header=0)\n",
    "    data['f1_score'] = f1_score(data['TP'], data['FP'], data['FN'])\n",
    "    result_1.loc[:,drug] = data[['n_iter', 'f1_score']].groupby('n_iter').mean()['f1_score']\n",
    "    \n",
    "    data = pd.read_csv(f\"{snp_indel_aggr_dir}/{drug}/result.csv\", sep='\\t', index_col=None, header=0)    \n",
    "    data['f1_score'] = f1_score(data['TP'], data['FP'], data['FN'])\n",
    "    result_2.loc[:,drug] = data[['n_iter', 'f1_score']].groupby('n_iter').mean()['f1_score']\n",
    "    \n",
    "for key in drug_with_groups.keys():\n",
    "    if type(drug_with_groups[key]) == list:\n",
    "        temp_1 = np.mean(result_1[drug_with_groups[key]], axis=1)\n",
    "    else:\n",
    "        temp_1 = result_1[drug_with_groups[key]]\n",
    "    \n",
    "    if type(drug_with_groups[key]) == list:\n",
    "        temp_2 = np.mean(result_2[drug_with_groups[key]], axis=1)\n",
    "    else:\n",
    "        temp_2 = result_2[drug_with_groups[key]]\n",
    "        \n",
    "    p_value = wilcoxon(temp_1.values, temp_2.values)[1]\n",
    "    \n",
    "    result.loc[key, 'F1, SNPs & Indels & PFAM'] = temp_1.mean()\n",
    "    result.loc[key, 'F1, SNPs & Indels & Aggr. genes'] = temp_2.mean()\n",
    "    result.loc[key, 'p_value'] = p_value\n",
    "    \n",
    "    result.to_csv(\"TableS10.csv\", sep='\\t', index=True, header=True)"
   ]
  }
 ],
 "metadata": {
  "kernelspec": {
   "display_name": "Python 3",
   "language": "python",
   "name": "python3"
  },
  "language_info": {
   "codemirror_mode": {
    "name": "ipython",
    "version": 3
   },
   "file_extension": ".py",
   "mimetype": "text/x-python",
   "name": "python",
   "nbconvert_exporter": "python",
   "pygments_lexer": "ipython3",
   "version": "3.6.10"
  }
 },
 "nbformat": 4,
 "nbformat_minor": 4
}
